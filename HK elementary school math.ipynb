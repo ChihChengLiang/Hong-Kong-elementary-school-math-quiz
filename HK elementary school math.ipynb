{
 "cells": [
  {
   "cell_type": "code",
   "execution_count": 13,
   "metadata": {
    "collapsed": true
   },
   "outputs": [],
   "source": [
    "from ipywidgets import IntProgress\n",
    "from IPython.display import display\n",
    "from itertools import permutations"
   ]
  },
  {
   "cell_type": "code",
   "execution_count": 4,
   "metadata": {
    "collapsed": false
   },
   "outputs": [
    {
     "data": {
      "text/plain": [
       "3628800"
      ]
     },
     "execution_count": 4,
     "metadata": {},
     "output_type": "execute_result"
    }
   ],
   "source": [
    "total_permutations = 10*9*8*7*6*5*4*3*2\n",
    "total_permutations"
   ]
  },
  {
   "cell_type": "code",
   "execution_count": 6,
   "metadata": {
    "collapsed": false
   },
   "outputs": [],
   "source": [
    "p = permutations(range(10), 9) # A B C D E F G H P 共9種"
   ]
  },
  {
   "cell_type": "code",
   "execution_count": 27,
   "metadata": {
    "collapsed": false,
    "scrolled": true
   },
   "outputs": [
    {
     "name": "stdout",
     "output_type": "stream",
     "text": [
      "(3, 4, 0, 9, 2, 5, 8, 6, 1)\n",
      "\n",
      "  3 4\n",
      "- 0 9\n",
      "-----------\n",
      "  2 5\n",
      "+ 8 6\n",
      "-----------\n",
      "111 \n",
      "(3, 6, 0, 9, 2, 7, 8, 4, 1)\n",
      "\n",
      "  3 6\n",
      "- 0 9\n",
      "-----------\n",
      "  2 7\n",
      "+ 8 4\n",
      "-----------\n",
      "111 \n",
      "(4, 5, 0, 6, 3, 9, 7, 2, 1)\n",
      "\n",
      "  4 5\n",
      "- 0 6\n",
      "-----------\n",
      "  3 9\n",
      "+ 7 2\n",
      "-----------\n",
      "111 \n",
      "(5, 2, 0, 9, 4, 3, 6, 8, 1)\n",
      "\n",
      "  5 2\n",
      "- 0 9\n",
      "-----------\n",
      "  4 3\n",
      "+ 6 8\n",
      "-----------\n",
      "111 \n",
      "(5, 7, 0, 8, 4, 9, 6, 2, 1)\n",
      "\n",
      "  5 7\n",
      "- 0 8\n",
      "-----------\n",
      "  4 9\n",
      "+ 6 2\n",
      "-----------\n",
      "111 \n",
      "(5, 7, 0, 9, 4, 8, 6, 3, 1)\n",
      "\n",
      "  5 7\n",
      "- 0 9\n",
      "-----------\n",
      "  4 8\n",
      "+ 6 3\n",
      "-----------\n",
      "111 \n",
      "(7, 2, 0, 9, 6, 3, 4, 8, 1)\n",
      "\n",
      "  7 2\n",
      "- 0 9\n",
      "-----------\n",
      "  6 3\n",
      "+ 4 8\n",
      "-----------\n",
      "111 \n",
      "(8, 4, 0, 5, 7, 9, 3, 2, 1)\n",
      "\n",
      "  8 4\n",
      "- 0 5\n",
      "-----------\n",
      "  7 9\n",
      "+ 3 2\n",
      "-----------\n",
      "111 \n",
      "(8, 4, 0, 9, 7, 5, 3, 6, 1)\n",
      "\n",
      "  8 4\n",
      "- 0 9\n",
      "-----------\n",
      "  7 5\n",
      "+ 3 6\n",
      "-----------\n",
      "111 \n",
      "(8, 5, 0, 6, 7, 9, 3, 2, 1)\n",
      "\n",
      "  8 5\n",
      "- 0 6\n",
      "-----------\n",
      "  7 9\n",
      "+ 3 2\n",
      "-----------\n",
      "111 \n",
      "(8, 5, 4, 6, 3, 9, 7, 2, 1)\n",
      "\n",
      "  8 5\n",
      "- 4 6\n",
      "-----------\n",
      "  3 9\n",
      "+ 7 2\n",
      "-----------\n",
      "111 \n",
      "(8, 6, 5, 4, 3, 2, 7, 9, 1)\n",
      "\n",
      "  8 6\n",
      "- 5 4\n",
      "-----------\n",
      "  3 2\n",
      "+ 7 9\n",
      "-----------\n",
      "111 \n",
      "(9, 0, 2, 7, 6, 3, 4, 8, 1)\n",
      "\n",
      "  9 0\n",
      "- 2 7\n",
      "-----------\n",
      "  6 3\n",
      "+ 4 8\n",
      "-----------\n",
      "111 \n",
      "(9, 0, 6, 3, 2, 7, 8, 4, 1)\n",
      "\n",
      "  9 0\n",
      "- 6 3\n",
      "-----------\n",
      "  2 7\n",
      "+ 8 4\n",
      "-----------\n",
      "111 \n",
      "(9, 3, 0, 6, 8, 7, 2, 4, 1)\n",
      "\n",
      "  9 3\n",
      "- 0 6\n",
      "-----------\n",
      "  8 7\n",
      "+ 2 4\n",
      "-----------\n",
      "111 \n",
      "(9, 3, 0, 7, 8, 6, 2, 5, 1)\n",
      "\n",
      "  9 3\n",
      "- 0 7\n",
      "-----------\n",
      "  8 6\n",
      "+ 2 5\n",
      "-----------\n",
      "111 \n",
      "(9, 5, 2, 7, 6, 8, 4, 3, 1)\n",
      "\n",
      "  9 5\n",
      "- 2 7\n",
      "-----------\n",
      "  6 8\n",
      "+ 4 3\n",
      "-----------\n",
      "111 \n",
      "CPU times: user 30min 45s, sys: 2min 40s, total: 33min 26s\n",
      "Wall time: 31min 59s\n"
     ]
    }
   ],
   "source": [
    "%%time\n",
    "bar = IntProgress(max = total_permutations)\n",
    "display(bar)\n",
    "for p in permutations(range(10), 9):\n",
    "    bar.value+=1\n",
    "    A, B, C, D, E, F, G, H, P = p\n",
    "    ABminusCD = (10*A + B) - (10*C + D)\n",
    "    if ABminusCD == (10*E + F) and ABminusCD + (10*G + H) == 111*P:\n",
    "        print p\n",
    "        print \"\"\"\n",
    "  {0} {1}\n",
    "- {2} {3}\n",
    "-----------\n",
    "  {4} {5}\n",
    "+ {6} {7}\n",
    "-----------\n",
    "{8}{8}{8} \"\"\".format( *p)"
   ]
  },
  {
   "cell_type": "code",
   "execution_count": null,
   "metadata": {
    "collapsed": true
   },
   "outputs": [],
   "source": []
  }
 ],
 "metadata": {
  "kernelspec": {
   "display_name": "Python 2",
   "language": "python",
   "name": "python2"
  },
  "language_info": {
   "codemirror_mode": {
    "name": "ipython",
    "version": 2
   },
   "file_extension": ".py",
   "mimetype": "text/x-python",
   "name": "python",
   "nbconvert_exporter": "python",
   "pygments_lexer": "ipython2",
   "version": "2.7.6"
  }
 },
 "nbformat": 4,
 "nbformat_minor": 0
}
